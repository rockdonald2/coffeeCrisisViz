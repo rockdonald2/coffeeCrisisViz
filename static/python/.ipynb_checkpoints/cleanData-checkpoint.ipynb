{
 "cells": [
  {
   "cell_type": "markdown",
   "metadata": {},
   "source": [
    "# Import necessary libraries"
   ]
  },
  {
   "cell_type": "code",
   "execution_count": 1,
   "metadata": {},
   "outputs": [],
   "source": [
    "import pandas as pd\n",
    "import numpy as np\n",
    "import dtale as dt"
   ]
  },
  {
   "cell_type": "code",
   "execution_count": 2,
   "metadata": {},
   "outputs": [],
   "source": [
    "import json\n",
    "import glob"
   ]
  },
  {
   "cell_type": "code",
   "execution_count": 3,
   "metadata": {},
   "outputs": [],
   "source": [
    "import requests"
   ]
  },
  {
   "cell_type": "markdown",
   "metadata": {},
   "source": [
    "---"
   ]
  },
  {
   "cell_type": "code",
   "execution_count": 4,
   "metadata": {},
   "outputs": [],
   "source": [
    "def makeSeparateJsonForYears(dataset, path, yearStart=1990, yearStop=2019, crop=None, isstr=True):\n",
    "    \"\"\" Groups dataset elements by year, to export it into separate files, \n",
    "        the 'isstr' argument is used when the years are strings or datetime objects\n",
    "    \"\"\"\n",
    "    \n",
    "    groups = dataset.groupby('Year')\n",
    "    \n",
    "    for y in range(yearStart, yearStop):\n",
    "        if isstr:\n",
    "            curr = groups.get_group(str(y)).T\n",
    "        else:\n",
    "            curr = groups.get_group(pd.to_datetime(str(y), format='%Y', exact=False)).T\n",
    "        curr = curr.rename(columns=curr.iloc[0]).drop(index='Year')\n",
    "        curr = curr.reset_index()\n",
    "        curr.insert(loc=2, column='Year', value=pd.to_datetime(str(y), format='%Y', exact=False))\n",
    "        \n",
    "        if crop:\n",
    "            curr.insert(loc=3, column='Type', value=crop)\n",
    "        \n",
    "        if isstr:\n",
    "            curr = curr.rename(columns={str(y): 'Value', 'index': 'Code'})\n",
    "        else:\n",
    "            curr = curr.rename(columns={'index': 'Code', pd.to_datetime(str(y), format='%Y', exact=False): 'Value'})\n",
    "        \n",
    "        curr.to_json('{}/{}.json'.format(path, str(y)), orient='records', date_format='epoch')"
   ]
  },
  {
   "cell_type": "code",
   "execution_count": 78,
   "metadata": {},
   "outputs": [],
   "source": [
    "def mergeFiles(path, fname):\n",
    "    \"\"\"\n",
    "        Merges seperate JSON files into one, the JSON records from one file are extended into another,\n",
    "        perfectly suitable for merging different year files into one, for line-charts\n",
    "    \"\"\"\n",
    "    \n",
    "    result = []\n",
    "    \n",
    "    for f in glob.glob('{}/*.json'.format(path)):\n",
    "        with open(f, 'r') as infile:\n",
    "            result.extend(json.load(infile))\n",
    "            \n",
    "    with open('{}.json'.format(fname), 'w') as outfile:\n",
    "        json.dump(result, outfile)"
   ]
  },
  {
   "cell_type": "markdown",
   "metadata": {},
   "source": [
    "---"
   ]
  },
  {
   "cell_type": "markdown",
   "metadata": {},
   "source": [
    "# First: totalProduction dataset, measured in thousand 60kg bags"
   ]
  },
  {
   "cell_type": "code",
   "execution_count": 9,
   "metadata": {},
   "outputs": [],
   "source": [
    "totalProduction = pd.read_excel('../data/non-cleaned/1a - Total production.xlsx', skiprows=2, header=1)"
   ]
  },
  {
   "cell_type": "code",
   "execution_count": 10,
   "metadata": {},
   "outputs": [],
   "source": [
    "totalProduction = totalProduction.drop(columns='Unnamed: 1')"
   ]
  },
  {
   "cell_type": "code",
   "execution_count": 11,
   "metadata": {},
   "outputs": [],
   "source": [
    "totalProduction = totalProduction.drop(index=0)"
   ]
  },
  {
   "cell_type": "code",
   "execution_count": 12,
   "metadata": {},
   "outputs": [],
   "source": [
    "totalProduction = totalProduction.drop(index=64)"
   ]
  },
  {
   "cell_type": "code",
   "execution_count": 13,
   "metadata": {},
   "outputs": [],
   "source": [
    "totalProduction = totalProduction.drop(index=62)"
   ]
  },
  {
   "cell_type": "code",
   "execution_count": 14,
   "metadata": {},
   "outputs": [],
   "source": [
    "totalProduction = totalProduction.drop(index=1)"
   ]
  },
  {
   "cell_type": "code",
   "execution_count": 15,
   "metadata": {},
   "outputs": [],
   "source": [
    "totalProduction = totalProduction.drop(index=[16, 17, 25, 26])"
   ]
  },
  {
   "cell_type": "markdown",
   "metadata": {},
   "source": [
    "---"
   ]
  },
  {
   "cell_type": "code",
   "execution_count": 6,
   "metadata": {},
   "outputs": [],
   "source": [
    "codes = pd.read_json('../data/cleaned/codes.json', orient='index')"
   ]
  },
  {
   "cell_type": "code",
   "execution_count": 7,
   "metadata": {},
   "outputs": [],
   "source": [
    "codes = codes.rename(columns={0: 'Country'})"
   ]
  },
  {
   "cell_type": "code",
   "execution_count": 8,
   "metadata": {},
   "outputs": [],
   "source": [
    "codes = codes.reset_index()"
   ]
  },
  {
   "cell_type": "code",
   "execution_count": 9,
   "metadata": {},
   "outputs": [],
   "source": [
    "codes = codes.rename(columns={'index': 'Code'})"
   ]
  },
  {
   "cell_type": "markdown",
   "metadata": {},
   "source": [
    "---"
   ]
  },
  {
   "cell_type": "code",
   "execution_count": 41,
   "metadata": {},
   "outputs": [],
   "source": [
    "totalProduction = totalProduction.rename(columns={'Crop year': 'Country'})"
   ]
  },
  {
   "cell_type": "code",
   "execution_count": 43,
   "metadata": {},
   "outputs": [],
   "source": [
    "totalProduction = totalProduction.merge(codes, how='left', on='Country')"
   ]
  },
  {
   "cell_type": "code",
   "execution_count": 50,
   "metadata": {},
   "outputs": [
    {
     "data": {
      "text/html": [
       "<div>\n",
       "<style scoped>\n",
       "    .dataframe tbody tr th:only-of-type {\n",
       "        vertical-align: middle;\n",
       "    }\n",
       "\n",
       "    .dataframe tbody tr th {\n",
       "        vertical-align: top;\n",
       "    }\n",
       "\n",
       "    .dataframe thead th {\n",
       "        text-align: right;\n",
       "    }\n",
       "</style>\n",
       "<table border=\"1\" class=\"dataframe\">\n",
       "  <thead>\n",
       "    <tr style=\"text-align: right;\">\n",
       "      <th></th>\n",
       "      <th>Country</th>\n",
       "      <th>1990/91</th>\n",
       "      <th>1991/92</th>\n",
       "      <th>1992/93</th>\n",
       "      <th>1993/94</th>\n",
       "      <th>1994/95</th>\n",
       "      <th>1995/96</th>\n",
       "      <th>1996/97</th>\n",
       "      <th>1997/98</th>\n",
       "      <th>1998/99</th>\n",
       "      <th>...</th>\n",
       "      <th>2010/11</th>\n",
       "      <th>2011/12</th>\n",
       "      <th>2012/13</th>\n",
       "      <th>2013/14</th>\n",
       "      <th>2014/15</th>\n",
       "      <th>2015/16</th>\n",
       "      <th>2016/17</th>\n",
       "      <th>2017/18</th>\n",
       "      <th>2018/19</th>\n",
       "      <th>Code</th>\n",
       "    </tr>\n",
       "  </thead>\n",
       "  <tbody>\n",
       "    <tr>\n",
       "      <th>56</th>\n",
       "      <td>Total</td>\n",
       "      <td>93230.0596</td>\n",
       "      <td>101266.6844</td>\n",
       "      <td>98525.8992</td>\n",
       "      <td>91764.6216</td>\n",
       "      <td>93313.194</td>\n",
       "      <td>87317.4582</td>\n",
       "      <td>103302.596</td>\n",
       "      <td>99861.199</td>\n",
       "      <td>109055.2131</td>\n",
       "      <td>...</td>\n",
       "      <td>142467.5376</td>\n",
       "      <td>142975.3877</td>\n",
       "      <td>152534.5121</td>\n",
       "      <td>154095.3148</td>\n",
       "      <td>149753.0421</td>\n",
       "      <td>153987.6449</td>\n",
       "      <td>159915.5434</td>\n",
       "      <td>158074.1842</td>\n",
       "      <td>170936.7377</td>\n",
       "      <td>NaN</td>\n",
       "    </tr>\n",
       "  </tbody>\n",
       "</table>\n",
       "<p>1 rows × 31 columns</p>\n",
       "</div>"
      ],
      "text/plain": [
       "   Country     1990/91      1991/92     1992/93     1993/94    1994/95  \\\n",
       "56   Total  93230.0596  101266.6844  98525.8992  91764.6216  93313.194   \n",
       "\n",
       "       1995/96     1996/97    1997/98      1998/99  ...      2010/11  \\\n",
       "56  87317.4582  103302.596  99861.199  109055.2131  ...  142467.5376   \n",
       "\n",
       "        2011/12      2012/13      2013/14      2014/15      2015/16  \\\n",
       "56  142975.3877  152534.5121  154095.3148  149753.0421  153987.6449   \n",
       "\n",
       "        2016/17      2017/18      2018/19  Code  \n",
       "56  159915.5434  158074.1842  170936.7377   NaN  \n",
       "\n",
       "[1 rows x 31 columns]"
      ]
     },
     "execution_count": 50,
     "metadata": {},
     "output_type": "execute_result"
    }
   ],
   "source": [
    "totalProduction[totalProduction.Code.isnull()]"
   ]
  },
  {
   "cell_type": "code",
   "execution_count": 46,
   "metadata": {},
   "outputs": [],
   "source": [
    "totalProduction.loc[19, 'Code'] = 'TZA'"
   ]
  },
  {
   "cell_type": "code",
   "execution_count": 47,
   "metadata": {},
   "outputs": [],
   "source": [
    "totalProduction.loc[27, 'Code'] = 'COD'"
   ]
  },
  {
   "cell_type": "code",
   "execution_count": 48,
   "metadata": {},
   "outputs": [],
   "source": [
    "totalProduction.loc[51, 'Code'] = 'TTO'"
   ]
  },
  {
   "cell_type": "code",
   "execution_count": 49,
   "metadata": {},
   "outputs": [],
   "source": [
    "totalProduction.loc[53, 'Code'] = 'VEN'"
   ]
  },
  {
   "cell_type": "code",
   "execution_count": 77,
   "metadata": {},
   "outputs": [],
   "source": [
    "totalProduction = totalProduction.T"
   ]
  },
  {
   "cell_type": "code",
   "execution_count": 78,
   "metadata": {},
   "outputs": [],
   "source": [
    "totalProduction = totalProduction.reset_index()"
   ]
  },
  {
   "cell_type": "code",
   "execution_count": 79,
   "metadata": {},
   "outputs": [],
   "source": [
    "totalProduction = totalProduction.rename(columns=totalProduction.iloc[30])"
   ]
  },
  {
   "cell_type": "code",
   "execution_count": 81,
   "metadata": {},
   "outputs": [],
   "source": [
    "totalProduction = totalProduction.drop(index=[0, 30])"
   ]
  },
  {
   "cell_type": "code",
   "execution_count": 82,
   "metadata": {},
   "outputs": [],
   "source": [
    "totalProduction = totalProduction.rename(columns={'Code': 'Year'})"
   ]
  },
  {
   "cell_type": "code",
   "execution_count": 83,
   "metadata": {},
   "outputs": [],
   "source": [
    "totalProduction = totalProduction.rename(columns={np.nan: 'Total'})"
   ]
  },
  {
   "cell_type": "code",
   "execution_count": 85,
   "metadata": {},
   "outputs": [],
   "source": [
    "totalProduction['Year'] = pd.to_datetime(totalProduction['Year'], format='%Y', exact=False)"
   ]
  },
  {
   "cell_type": "code",
   "execution_count": 113,
   "metadata": {},
   "outputs": [],
   "source": [
    "makeSeparateJsonForYears(totalProduction, '../data/cleaned/totalProductionByYear', isstr=False)"
   ]
  },
  {
   "cell_type": "code",
   "execution_count": 117,
   "metadata": {},
   "outputs": [],
   "source": [
    "mergeFiles('../data/cleaned/totalProductionByYear', '../data/cleaned/totalProduction')"
   ]
  },
  {
   "cell_type": "markdown",
   "metadata": {},
   "source": [
    "# Second: export dataset, measuring in thousand 60kg bags"
   ]
  },
  {
   "cell_type": "code",
   "execution_count": 52,
   "metadata": {},
   "outputs": [],
   "source": [
    "totalExport = pd.read_excel('../data/non-cleaned/2a - Exports - calendar year.xlsx', skiprows=2, header=1)"
   ]
  },
  {
   "cell_type": "code",
   "execution_count": 53,
   "metadata": {},
   "outputs": [],
   "source": [
    "totalExport = totalExport.T"
   ]
  },
  {
   "cell_type": "code",
   "execution_count": 54,
   "metadata": {},
   "outputs": [],
   "source": [
    "totalExport = totalExport.reset_index()"
   ]
  },
  {
   "cell_type": "code",
   "execution_count": 55,
   "metadata": {},
   "outputs": [],
   "source": [
    "totalExport = totalExport.rename(columns=totalExport.iloc[0])"
   ]
  },
  {
   "cell_type": "code",
   "execution_count": 56,
   "metadata": {},
   "outputs": [],
   "source": [
    "totalExport = totalExport.drop(index=0)"
   ]
  },
  {
   "cell_type": "code",
   "execution_count": 57,
   "metadata": {},
   "outputs": [],
   "source": [
    "totalExport = totalExport.rename(columns={'Calendar years': 'Year'})"
   ]
  },
  {
   "cell_type": "code",
   "execution_count": 58,
   "metadata": {},
   "outputs": [],
   "source": [
    "totalExport = totalExport.T"
   ]
  },
  {
   "cell_type": "code",
   "execution_count": 59,
   "metadata": {},
   "outputs": [],
   "source": [
    "totalExport = totalExport.reset_index()"
   ]
  },
  {
   "cell_type": "code",
   "execution_count": 60,
   "metadata": {},
   "outputs": [],
   "source": [
    "totalExport = totalExport.rename(columns=totalExport.iloc[0]).drop(index=0)"
   ]
  },
  {
   "cell_type": "code",
   "execution_count": 61,
   "metadata": {},
   "outputs": [],
   "source": [
    "totalExport = totalExport.drop(index=[57, 59])"
   ]
  },
  {
   "cell_type": "code",
   "execution_count": 62,
   "metadata": {},
   "outputs": [],
   "source": [
    "totalExport = totalExport.rename(columns={'Year': 'Country'})"
   ]
  },
  {
   "cell_type": "code",
   "execution_count": 63,
   "metadata": {},
   "outputs": [],
   "source": [
    "totalExport = totalExport.merge(codes, how='left', on='Country')"
   ]
  },
  {
   "cell_type": "code",
   "execution_count": 122,
   "metadata": {},
   "outputs": [],
   "source": [
    "totalExport[totalExport.Code.isnull()]"
   ]
  },
  {
   "cell_type": "code",
   "execution_count": 65,
   "metadata": {},
   "outputs": [],
   "source": [
    "totalExport.loc[51, 'Code'] = 'VEN'"
   ]
  },
  {
   "cell_type": "code",
   "execution_count": 66,
   "metadata": {},
   "outputs": [],
   "source": [
    "totalExport.loc[49, 'Code'] = 'TTO'"
   ]
  },
  {
   "cell_type": "code",
   "execution_count": 67,
   "metadata": {},
   "outputs": [],
   "source": [
    "totalExport.loc[12, 'Code'] = 'COD'"
   ]
  },
  {
   "cell_type": "code",
   "execution_count": 68,
   "metadata": {},
   "outputs": [],
   "source": [
    "totalExport.loc[45, 'Code'] = 'TZA'"
   ]
  },
  {
   "cell_type": "code",
   "execution_count": 69,
   "metadata": {},
   "outputs": [],
   "source": [
    "totalExport = totalExport.T"
   ]
  },
  {
   "cell_type": "code",
   "execution_count": 70,
   "metadata": {},
   "outputs": [],
   "source": [
    "totalExport = totalExport.reset_index().rename(columns=totalExport.iloc[30]).drop(index=[0, 30])"
   ]
  },
  {
   "cell_type": "code",
   "execution_count": 71,
   "metadata": {},
   "outputs": [],
   "source": [
    "totalExport = totalExport.rename(columns={'index': 'Year', np.nan: 'Total'})"
   ]
  },
  {
   "cell_type": "code",
   "execution_count": 119,
   "metadata": {},
   "outputs": [],
   "source": [
    "makeSeparateJsonForYears(totalExport, '../data/cleaned/totalExportByYear', isstr=True)"
   ]
  },
  {
   "cell_type": "code",
   "execution_count": 120,
   "metadata": {},
   "outputs": [],
   "source": [
    "mergeFiles('../data/cleaned/totalExportByYear', '../data/cleaned/totalExport')"
   ]
  },
  {
   "cell_type": "markdown",
   "metadata": {},
   "source": [
    "# Third: Imports by selected importing countries, measured in thousand 60kg bags"
   ]
  },
  {
   "cell_type": "code",
   "execution_count": 138,
   "metadata": {},
   "outputs": [],
   "source": [
    "totalImports = pd.read_excel('../data/non-cleaned/2b - Imports.xlsx', skiprows=2, header=1)"
   ]
  },
  {
   "cell_type": "code",
   "execution_count": 139,
   "metadata": {},
   "outputs": [],
   "source": [
    "totalImports = totalImports.drop(index=[0, 2, 3, 4, 5, 6, 7, 8, 9, 10, 11, 12, 13, 14, 15, 16, 17, 18, 19, 20, 21, 22, 23, 24, 25, 26, 27, 28, 29, 30, 31, 38, 40])"
   ]
  },
  {
   "cell_type": "code",
   "execution_count": 140,
   "metadata": {},
   "outputs": [],
   "source": [
    "totalImports = totalImports.rename(columns={'Calendar years': 'Country'})"
   ]
  },
  {
   "cell_type": "code",
   "execution_count": 141,
   "metadata": {},
   "outputs": [],
   "source": [
    "totalImports = totalImports.merge(codes, how='left', on='Country')"
   ]
  },
  {
   "cell_type": "code",
   "execution_count": 147,
   "metadata": {},
   "outputs": [
    {
     "data": {
      "text/html": [
       "<div>\n",
       "<style scoped>\n",
       "    .dataframe tbody tr th:only-of-type {\n",
       "        vertical-align: middle;\n",
       "    }\n",
       "\n",
       "    .dataframe tbody tr th {\n",
       "        vertical-align: top;\n",
       "    }\n",
       "\n",
       "    .dataframe thead th {\n",
       "        text-align: right;\n",
       "    }\n",
       "</style>\n",
       "<table border=\"1\" class=\"dataframe\">\n",
       "  <thead>\n",
       "    <tr style=\"text-align: right;\">\n",
       "      <th></th>\n",
       "      <th>Country</th>\n",
       "      <th>1990</th>\n",
       "      <th>1991</th>\n",
       "      <th>1992</th>\n",
       "      <th>1993</th>\n",
       "      <th>1994</th>\n",
       "      <th>1995</th>\n",
       "      <th>1996</th>\n",
       "      <th>1997</th>\n",
       "      <th>1998</th>\n",
       "      <th>...</th>\n",
       "      <th>2010</th>\n",
       "      <th>2011</th>\n",
       "      <th>2012</th>\n",
       "      <th>2013</th>\n",
       "      <th>2014</th>\n",
       "      <th>2015</th>\n",
       "      <th>2016</th>\n",
       "      <th>2017</th>\n",
       "      <th>2018</th>\n",
       "      <th>Code</th>\n",
       "    </tr>\n",
       "  </thead>\n",
       "  <tbody>\n",
       "  </tbody>\n",
       "</table>\n",
       "<p>0 rows × 31 columns</p>\n",
       "</div>"
      ],
      "text/plain": [
       "Empty DataFrame\n",
       "Columns: [Country, 1990, 1991, 1992, 1993, 1994, 1995, 1996, 1997, 1998, 1999, 2000, 2001, 2002, 2003, 2004, 2005, 2006, 2007, 2008, 2009, 2010, 2011, 2012, 2013, 2014, 2015, 2016, 2017, 2018, Code]\n",
       "Index: []\n",
       "\n",
       "[0 rows x 31 columns]"
      ]
     },
     "execution_count": 147,
     "metadata": {},
     "output_type": "execute_result"
    }
   ],
   "source": [
    "totalImports[totalImports.Code.isnull()]"
   ]
  },
  {
   "cell_type": "code",
   "execution_count": 145,
   "metadata": {},
   "outputs": [],
   "source": [
    "totalImports.loc[6, 'Code'] = 'USA'"
   ]
  },
  {
   "cell_type": "code",
   "execution_count": 146,
   "metadata": {},
   "outputs": [],
   "source": [
    "totalImports.loc[7, 'Code'] = 'Total'"
   ]
  },
  {
   "cell_type": "code",
   "execution_count": 150,
   "metadata": {},
   "outputs": [],
   "source": [
    "totalImports = totalImports.T"
   ]
  },
  {
   "cell_type": "code",
   "execution_count": 151,
   "metadata": {},
   "outputs": [],
   "source": [
    "totalImports = totalImports.reset_index()"
   ]
  },
  {
   "cell_type": "code",
   "execution_count": 153,
   "metadata": {},
   "outputs": [],
   "source": [
    "totalImports = totalImports.rename(columns=totalImports.loc[30]).drop(index=[0, 30])"
   ]
  },
  {
   "cell_type": "code",
   "execution_count": 155,
   "metadata": {},
   "outputs": [],
   "source": [
    "totalImports = totalImports.rename(columns={'Code': 'Year'})"
   ]
  },
  {
   "cell_type": "code",
   "execution_count": 160,
   "metadata": {},
   "outputs": [],
   "source": [
    "totalImports[['EAU', 'JPN', 'NOR', 'RUS', 'CHE', 'TUN', 'USA', 'Total']] = totalImports[['EAU', 'JPN', 'NOR', 'RUS', 'CHE', 'TUN', 'USA', 'Total']].astype('float64')"
   ]
  },
  {
   "cell_type": "code",
   "execution_count": 168,
   "metadata": {},
   "outputs": [],
   "source": [
    "totalImports['Year'] = pd.to_datetime(totalImports['Year'], format='%Y', exact=False)"
   ]
  },
  {
   "cell_type": "code",
   "execution_count": 171,
   "metadata": {},
   "outputs": [],
   "source": [
    "makeSeparateJsonForYears(totalImports, '../data/cleaned/totalImportByYear', isstr=False)"
   ]
  },
  {
   "cell_type": "code",
   "execution_count": 172,
   "metadata": {},
   "outputs": [],
   "source": [
    "mergeFiles('../data/cleaned/totalImportByYear', '../data/cleaned/totalImport')"
   ]
  },
  {
   "cell_type": "markdown",
   "metadata": {},
   "source": [
    "# Fourth: Prices paid to growers in exporting countries, measured in US cents/lb"
   ]
  },
  {
   "cell_type": "code",
   "execution_count": 274,
   "metadata": {},
   "outputs": [],
   "source": [
    "pricesPaidToGrowers = pd.read_excel('../data/non-cleaned/3a - Prices paid to growers.xlsx', skiprows=2, header=1)"
   ]
  },
  {
   "cell_type": "code",
   "execution_count": 275,
   "metadata": {},
   "outputs": [],
   "source": [
    "pricesPaidToGrowers = pricesPaidToGrowers.drop(index=[0, 1, 73])"
   ]
  },
  {
   "cell_type": "code",
   "execution_count": 276,
   "metadata": {},
   "outputs": [],
   "source": [
    "pricesPaidToGrowers = pricesPaidToGrowers.drop(index=[5, 6])"
   ]
  },
  {
   "cell_type": "code",
   "execution_count": 277,
   "metadata": {},
   "outputs": [],
   "source": [
    "pricesPaidToGrowers = pricesPaidToGrowers.drop(index=[34, 43])"
   ]
  },
  {
   "cell_type": "code",
   "execution_count": 278,
   "metadata": {},
   "outputs": [],
   "source": [
    "pricesPaidToGrowers = pricesPaidToGrowers.rename(columns={'Calendar years': 'Country'})"
   ]
  },
  {
   "cell_type": "code",
   "execution_count": 279,
   "metadata": {},
   "outputs": [],
   "source": [
    "pricesPaidToGrowers = pricesPaidToGrowers.merge(codes, how='left', on='Country')"
   ]
  },
  {
   "cell_type": "code",
   "execution_count": 280,
   "metadata": {},
   "outputs": [],
   "source": [
    "pricesPaidToGrowers = pricesPaidToGrowers.drop(index=[30, 38])"
   ]
  },
  {
   "cell_type": "code",
   "execution_count": 289,
   "metadata": {},
   "outputs": [
    {
     "data": {
      "text/html": [
       "<div>\n",
       "<style scoped>\n",
       "    .dataframe tbody tr th:only-of-type {\n",
       "        vertical-align: middle;\n",
       "    }\n",
       "\n",
       "    .dataframe tbody tr th {\n",
       "        vertical-align: top;\n",
       "    }\n",
       "\n",
       "    .dataframe thead th {\n",
       "        text-align: right;\n",
       "    }\n",
       "</style>\n",
       "<table border=\"1\" class=\"dataframe\">\n",
       "  <thead>\n",
       "    <tr style=\"text-align: right;\">\n",
       "      <th></th>\n",
       "      <th>Country</th>\n",
       "      <th>1990</th>\n",
       "      <th>1991</th>\n",
       "      <th>1992</th>\n",
       "      <th>1993</th>\n",
       "      <th>1994</th>\n",
       "      <th>1995</th>\n",
       "      <th>1996</th>\n",
       "      <th>1997</th>\n",
       "      <th>1998</th>\n",
       "      <th>...</th>\n",
       "      <th>2010</th>\n",
       "      <th>2011</th>\n",
       "      <th>2012</th>\n",
       "      <th>2013</th>\n",
       "      <th>2014</th>\n",
       "      <th>2015</th>\n",
       "      <th>2016</th>\n",
       "      <th>2017</th>\n",
       "      <th>2018</th>\n",
       "      <th>Code</th>\n",
       "    </tr>\n",
       "  </thead>\n",
       "  <tbody>\n",
       "  </tbody>\n",
       "</table>\n",
       "<p>0 rows × 31 columns</p>\n",
       "</div>"
      ],
      "text/plain": [
       "Empty DataFrame\n",
       "Columns: [Country, 1990, 1991, 1992, 1993, 1994, 1995, 1996, 1997, 1998, 1999, 2000, 2001, 2002, 2003, 2004, 2005, 2006, 2007, 2008, 2009, 2010, 2011, 2012, 2013, 2014, 2015, 2016, 2017, 2018, Code]\n",
       "Index: []\n",
       "\n",
       "[0 rows x 31 columns]"
      ]
     },
     "execution_count": 289,
     "metadata": {},
     "output_type": "execute_result"
    }
   ],
   "source": [
    "pricesPaidToGrowers[pricesPaidToGrowers.Code.isnull()]"
   ]
  },
  {
   "cell_type": "code",
   "execution_count": 282,
   "metadata": {},
   "outputs": [],
   "source": [
    "pricesPaidToGrowers.loc[2, 'Code'] = 'TZA'"
   ]
  },
  {
   "cell_type": "code",
   "execution_count": 283,
   "metadata": {},
   "outputs": [],
   "source": [
    "pricesPaidToGrowers.loc[61, 'Code'] = 'TZA'"
   ]
  },
  {
   "cell_type": "code",
   "execution_count": 284,
   "metadata": {},
   "outputs": [],
   "source": [
    "pricesPaidToGrowers.loc[8, 'Code'] = 'COD'"
   ]
  },
  {
   "cell_type": "code",
   "execution_count": 285,
   "metadata": {},
   "outputs": [],
   "source": [
    "pricesPaidToGrowers.loc[47, 'Code'] = 'COD'"
   ]
  },
  {
   "cell_type": "code",
   "execution_count": 286,
   "metadata": {},
   "outputs": [],
   "source": [
    "pricesPaidToGrowers.loc[27, 'Code'] = 'VEN'"
   ]
  },
  {
   "cell_type": "code",
   "execution_count": 287,
   "metadata": {},
   "outputs": [],
   "source": [
    "pricesPaidToGrowers.loc[64, 'Code'] = 'TTO'"
   ]
  },
  {
   "cell_type": "code",
   "execution_count": 288,
   "metadata": {},
   "outputs": [],
   "source": [
    "types = []\n",
    "\n",
    "for _ in range(0, 3):\n",
    "    types.append('Colombian Milds')\n",
    "    \n",
    "for _ in range(0, 27):\n",
    "    types.append('Other Milds')\n",
    "    \n",
    "for _ in range(0, 7):\n",
    "    types.append('Brazilian Naturals')\n",
    "    \n",
    "for _ in range(0, 28):\n",
    "    types.append('Robustas')"
   ]
  },
  {
   "cell_type": "code",
   "execution_count": 290,
   "metadata": {},
   "outputs": [],
   "source": [
    "pricesPaidToGrowers.insert(loc=1, column='Type', value=types)"
   ]
  },
  {
   "cell_type": "code",
   "execution_count": 267,
   "metadata": {},
   "outputs": [],
   "source": [
    "pricesPaidToGrowers = pricesPaidToGrowers.T"
   ]
  },
  {
   "cell_type": "code",
   "execution_count": 269,
   "metadata": {},
   "outputs": [],
   "source": [
    "pricesPaidToGrowers = pricesPaidToGrowers.reset_index()"
   ]
  },
  {
   "cell_type": "code",
   "execution_count": 271,
   "metadata": {},
   "outputs": [],
   "source": [
    "pricesPaidToGrowers = pricesPaidToGrowers.rename(columns=pricesPaidToGrowers.iloc[31]).rename(columns={'Code': 'Year'}).drop(index=[0, 31])"
   ]
  },
  {
   "cell_type": "code",
   "execution_count": 311,
   "metadata": {},
   "outputs": [],
   "source": [
    "colombianMilds = pricesPaidToGrowers[pricesPaidToGrowers.Type == 'Colombian Milds'].drop(columns='Type')\n",
    "otherMilds = pricesPaidToGrowers[pricesPaidToGrowers.Type == 'Other Milds'].drop(columns='Type')\n",
    "brazilianNaturals = pricesPaidToGrowers[pricesPaidToGrowers.Type == 'Brazilian Naturals'].drop(columns='Type')\n",
    "robustas = pricesPaidToGrowers[pricesPaidToGrowers.Type == 'Robustas'].drop(columns='Type')"
   ]
  },
  {
   "cell_type": "code",
   "execution_count": 312,
   "metadata": {},
   "outputs": [],
   "source": [
    "colombianMilds = colombianMilds.T\n",
    "colombianMilds = colombianMilds.reset_index()\n",
    "colombianMilds = colombianMilds.rename(columns=colombianMilds.iloc[30]).drop(index=[0, 30]).rename(columns={'Code': 'Year'})"
   ]
  },
  {
   "cell_type": "code",
   "execution_count": 315,
   "metadata": {},
   "outputs": [],
   "source": [
    "otherMilds = otherMilds.T\n",
    "otherMilds = otherMilds.reset_index()\n",
    "otherMilds = otherMilds.rename(columns=otherMilds.iloc[30]).drop(index=[0, 30]).rename(columns={'Code': 'Year'})"
   ]
  },
  {
   "cell_type": "code",
   "execution_count": 317,
   "metadata": {},
   "outputs": [],
   "source": [
    "brazilianNaturals = brazilianNaturals.T\n",
    "brazilianNaturals = brazilianNaturals.reset_index()\n",
    "brazilianNaturals = brazilianNaturals.rename(columns=brazilianNaturals.iloc[30]).drop(index=[0, 30]).rename(columns={'Code': 'Year'})"
   ]
  },
  {
   "cell_type": "code",
   "execution_count": 319,
   "metadata": {},
   "outputs": [],
   "source": [
    "robustas = robustas.T\n",
    "robustas = robustas.reset_index()\n",
    "robustas = robustas.rename(columns=robustas.iloc[30]).drop(index=[0, 30]).rename(columns={'Code': 'Year'})"
   ]
  },
  {
   "cell_type": "code",
   "execution_count": 324,
   "metadata": {},
   "outputs": [],
   "source": [
    "otherMilds = otherMilds.drop(columns=['VEN', 'ZWE'])"
   ]
  },
  {
   "cell_type": "code",
   "execution_count": 333,
   "metadata": {},
   "outputs": [],
   "source": [
    "robustas = robustas.drop(columns='LBR')"
   ]
  },
  {
   "cell_type": "code",
   "execution_count": 337,
   "metadata": {},
   "outputs": [],
   "source": [
    "colombianMilds['Year'] = pd.to_datetime(colombianMilds['Year'], format='%Y', exact=False)\n",
    "otherMilds['Year'] = pd.to_datetime(otherMilds['Year'], format='%Y', exact=False)\n",
    "brazilianNaturals['Year'] = pd.to_datetime(brazilianNaturals['Year'], format='%Y', exact=False)\n",
    "robustas['Year'] = pd.to_datetime(robustas['Year'], format='%Y', exact=False)"
   ]
  },
  {
   "cell_type": "code",
   "execution_count": 344,
   "metadata": {},
   "outputs": [],
   "source": [
    "makeSeparateJsonForYears(colombianMilds, '../data/cleaned/pricesPaidToGrowers/colombianMilds', crop='Colombian Milds', isstr=False)\n",
    "makeSeparateJsonForYears(otherMilds, '../data/cleaned/pricesPaidToGrowers/otherMilds', crop='Other Milds', isstr=False)\n",
    "makeSeparateJsonForYears(brazilianNaturals, '../data/cleaned/pricesPaidToGrowers/brazilianNaturals', crop='Brazilian Naturals', isstr=False)\n",
    "makeSeparateJsonForYears(robustas, '../data/cleaned/pricesPaidToGrowers/robustas', crop='Robustas', isstr=False)"
   ]
  },
  {
   "cell_type": "code",
   "execution_count": 346,
   "metadata": {},
   "outputs": [],
   "source": [
    "mergeFiles('../data/cleaned/pricesPaidToGrowers/colombianMilds', '../data/cleaned/pricesPaidToGrowers/colombianMilds')\n",
    "mergeFiles('../data/cleaned/pricesPaidToGrowers/otherMilds', '../data/cleaned/pricesPaidToGrowers/otherMilds')\n",
    "mergeFiles('../data/cleaned/pricesPaidToGrowers/brazilianNaturals', '../data/cleaned/pricesPaidToGrowers/brazilianNaturals')\n",
    "mergeFiles('../data/cleaned/pricesPaidToGrowers/robustas', '../data/cleaned/pricesPaidToGrowers/robustas')"
   ]
  },
  {
   "cell_type": "code",
   "execution_count": 347,
   "metadata": {},
   "outputs": [],
   "source": [
    "mergeFiles('../data/cleaned/pricesPaidToGrowers', '../data/cleaned/pricesPaidToGrowers')"
   ]
  },
  {
   "cell_type": "markdown",
   "metadata": {},
   "source": [
    "# Fifth: Retail prices of roasted coffee in selected importing countries, measured in US dollar/lb"
   ]
  },
  {
   "cell_type": "code",
   "execution_count": 17,
   "metadata": {},
   "outputs": [],
   "source": [
    "retailPrices = pd.read_excel('../data/non-cleaned/3b - Retail prices.xlsx', skiprows=2, header=1)"
   ]
  },
  {
   "cell_type": "code",
   "execution_count": 18,
   "metadata": {},
   "outputs": [],
   "source": [
    "retailPrices = retailPrices.drop(index=[0, 25, 31, 32])"
   ]
  },
  {
   "cell_type": "code",
   "execution_count": 19,
   "metadata": {},
   "outputs": [],
   "source": [
    "retailPrices = retailPrices.rename(columns={'Calendar years': 'Country'})"
   ]
  },
  {
   "cell_type": "code",
   "execution_count": 20,
   "metadata": {},
   "outputs": [],
   "source": [
    "retailPrices.loc[16, 'Country'] = 'Malta'\n",
    "retailPrices.loc[24, 'Country'] = 'United Kingdom'"
   ]
  },
  {
   "cell_type": "code",
   "execution_count": 21,
   "metadata": {},
   "outputs": [],
   "source": [
    "retailPrices = retailPrices.drop(index=1)"
   ]
  },
  {
   "cell_type": "code",
   "execution_count": 22,
   "metadata": {},
   "outputs": [],
   "source": [
    "retailPrices['Country'] = retailPrices['Country'].str.strip()"
   ]
  },
  {
   "cell_type": "code",
   "execution_count": 23,
   "metadata": {},
   "outputs": [],
   "source": [
    "retailPrices = retailPrices.merge(codes, how='left', on='Country')"
   ]
  },
  {
   "cell_type": "code",
   "execution_count": 24,
   "metadata": {},
   "outputs": [
    {
     "data": {
      "text/html": [
       "<div>\n",
       "<style scoped>\n",
       "    .dataframe tbody tr th:only-of-type {\n",
       "        vertical-align: middle;\n",
       "    }\n",
       "\n",
       "    .dataframe tbody tr th {\n",
       "        vertical-align: top;\n",
       "    }\n",
       "\n",
       "    .dataframe thead th {\n",
       "        text-align: right;\n",
       "    }\n",
       "</style>\n",
       "<table border=\"1\" class=\"dataframe\">\n",
       "  <thead>\n",
       "    <tr style=\"text-align: right;\">\n",
       "      <th></th>\n",
       "      <th>Country</th>\n",
       "      <th>1990</th>\n",
       "      <th>1991</th>\n",
       "      <th>1992</th>\n",
       "      <th>1993</th>\n",
       "      <th>1994</th>\n",
       "      <th>1995</th>\n",
       "      <th>1996</th>\n",
       "      <th>1997</th>\n",
       "      <th>1998</th>\n",
       "      <th>...</th>\n",
       "      <th>2010</th>\n",
       "      <th>2011</th>\n",
       "      <th>2012</th>\n",
       "      <th>2013</th>\n",
       "      <th>2014</th>\n",
       "      <th>2015</th>\n",
       "      <th>2016</th>\n",
       "      <th>2017</th>\n",
       "      <th>2018</th>\n",
       "      <th>Code</th>\n",
       "    </tr>\n",
       "  </thead>\n",
       "  <tbody>\n",
       "    <tr>\n",
       "      <th>4</th>\n",
       "      <td>Czech Republic</td>\n",
       "      <td>NaN</td>\n",
       "      <td>NaN</td>\n",
       "      <td>NaN</td>\n",
       "      <td>NaN</td>\n",
       "      <td>NaN</td>\n",
       "      <td>NaN</td>\n",
       "      <td>NaN</td>\n",
       "      <td>4.31</td>\n",
       "      <td>5.10</td>\n",
       "      <td>...</td>\n",
       "      <td>5.01</td>\n",
       "      <td>6.58</td>\n",
       "      <td>7.13</td>\n",
       "      <td>7.00</td>\n",
       "      <td>6.61</td>\n",
       "      <td>5.75</td>\n",
       "      <td>6.14</td>\n",
       "      <td>6.58</td>\n",
       "      <td>7.27</td>\n",
       "      <td>NaN</td>\n",
       "    </tr>\n",
       "    <tr>\n",
       "      <th>22</th>\n",
       "      <td>United Kingdom</td>\n",
       "      <td>10.55</td>\n",
       "      <td>10.41</td>\n",
       "      <td>10.09</td>\n",
       "      <td>8.44</td>\n",
       "      <td>11.36</td>\n",
       "      <td>13.79</td>\n",
       "      <td>13.35</td>\n",
       "      <td>14.90</td>\n",
       "      <td>15.42</td>\n",
       "      <td>...</td>\n",
       "      <td>15.70</td>\n",
       "      <td>19.02</td>\n",
       "      <td>19.20</td>\n",
       "      <td>18.92</td>\n",
       "      <td>20.56</td>\n",
       "      <td>18.91</td>\n",
       "      <td>16.29</td>\n",
       "      <td>17.01</td>\n",
       "      <td>18.40</td>\n",
       "      <td>NaN</td>\n",
       "    </tr>\n",
       "    <tr>\n",
       "      <th>27</th>\n",
       "      <td>USA</td>\n",
       "      <td>2.97</td>\n",
       "      <td>2.81</td>\n",
       "      <td>2.58</td>\n",
       "      <td>2.47</td>\n",
       "      <td>3.40</td>\n",
       "      <td>4.04</td>\n",
       "      <td>3.43</td>\n",
       "      <td>4.11</td>\n",
       "      <td>3.77</td>\n",
       "      <td>...</td>\n",
       "      <td>3.91</td>\n",
       "      <td>5.19</td>\n",
       "      <td>5.68</td>\n",
       "      <td>5.45</td>\n",
       "      <td>4.99</td>\n",
       "      <td>4.72</td>\n",
       "      <td>4.39</td>\n",
       "      <td>4.45</td>\n",
       "      <td>4.30</td>\n",
       "      <td>NaN</td>\n",
       "    </tr>\n",
       "  </tbody>\n",
       "</table>\n",
       "<p>3 rows × 31 columns</p>\n",
       "</div>"
      ],
      "text/plain": [
       "           Country   1990   1991   1992  1993   1994   1995   1996   1997  \\\n",
       "4   Czech Republic    NaN    NaN    NaN   NaN    NaN    NaN    NaN   4.31   \n",
       "22  United Kingdom  10.55  10.41  10.09  8.44  11.36  13.79  13.35  14.90   \n",
       "27             USA   2.97   2.81   2.58  2.47   3.40   4.04   3.43   4.11   \n",
       "\n",
       "     1998  ...   2010   2011   2012   2013   2014   2015   2016   2017   2018  \\\n",
       "4    5.10  ...   5.01   6.58   7.13   7.00   6.61   5.75   6.14   6.58   7.27   \n",
       "22  15.42  ...  15.70  19.02  19.20  18.92  20.56  18.91  16.29  17.01  18.40   \n",
       "27   3.77  ...   3.91   5.19   5.68   5.45   4.99   4.72   4.39   4.45   4.30   \n",
       "\n",
       "    Code  \n",
       "4    NaN  \n",
       "22   NaN  \n",
       "27   NaN  \n",
       "\n",
       "[3 rows x 31 columns]"
      ]
     },
     "execution_count": 24,
     "metadata": {},
     "output_type": "execute_result"
    }
   ],
   "source": [
    "retailPrices[retailPrices.Code.isnull()]"
   ]
  },
  {
   "cell_type": "code",
   "execution_count": 25,
   "metadata": {},
   "outputs": [],
   "source": [
    "retailPrices.loc[4, 'Code'] = 'CZE'\n",
    "retailPrices.loc[22, 'Code'] = 'GBR'\n",
    "retailPrices.loc[27, 'Code'] = 'USA'"
   ]
  },
  {
   "cell_type": "code",
   "execution_count": 28,
   "metadata": {},
   "outputs": [],
   "source": [
    "retailPrices = retailPrices.T"
   ]
  },
  {
   "cell_type": "code",
   "execution_count": 30,
   "metadata": {},
   "outputs": [],
   "source": [
    "retailPrices = retailPrices.reset_index().rename(columns=retailPrices.iloc[30])"
   ]
  },
  {
   "cell_type": "code",
   "execution_count": 32,
   "metadata": {},
   "outputs": [],
   "source": [
    "retailPrices = retailPrices.rename(columns={'index': 'Year'}).drop(index=[0, 30])"
   ]
  },
  {
   "cell_type": "code",
   "execution_count": 34,
   "metadata": {},
   "outputs": [],
   "source": [
    "retailPrices['Year'] = pd.to_datetime(retailPrices['Year'], format='%Y', exact=False)"
   ]
  },
  {
   "cell_type": "code",
   "execution_count": 35,
   "metadata": {},
   "outputs": [],
   "source": [
    "makeSeparateJsonForYears(retailPrices, '../data/cleaned/retailPricesByYear', isstr=False)"
   ]
  },
  {
   "cell_type": "code",
   "execution_count": 36,
   "metadata": {},
   "outputs": [],
   "source": [
    "mergeFiles('../data/cleaned/retailPricesByYear', '../data/cleaned/retailPrices')"
   ]
  },
  {
   "cell_type": "markdown",
   "metadata": {},
   "source": [
    "# Sixth: Colombian monthly internal price of coffee, measured in pesos/125kg bags"
   ]
  },
  {
   "cell_type": "code",
   "execution_count": 41,
   "metadata": {},
   "outputs": [],
   "source": [
    "internalPrice = pd.read_excel('../data/non-cleaned/Precios-área-y-producción-de-café.xlsx', sheet_name='Internal Price', skiprows=4, header=1, usecols='B:C')"
   ]
  },
  {
   "cell_type": "code",
   "execution_count": 43,
   "metadata": {},
   "outputs": [],
   "source": [
    "internalPrice = internalPrice.rename(columns={'Mes': 'Year', 'Precio interno': 'Price'})"
   ]
  },
  {
   "cell_type": "code",
   "execution_count": 48,
   "metadata": {},
   "outputs": [],
   "source": [
    "internalPrice.to_json('../data/cleaned/colombianMonthlyInternalPrice.json', orient='records', date_format='epoch')"
   ]
  },
  {
   "cell_type": "markdown",
   "metadata": {},
   "source": [
    "# Seventh: Colombian yearly export price, measured in dollar cents/lb"
   ]
  },
  {
   "cell_type": "code",
   "execution_count": 49,
   "metadata": {},
   "outputs": [],
   "source": [
    "exportPrice = pd.read_excel('../data/non-cleaned/Precios-área-y-producción-de-café.xlsx', sheet_name='Export Price', skiprows=4, header=1, usecols='B:C')"
   ]
  },
  {
   "cell_type": "code",
   "execution_count": 51,
   "metadata": {},
   "outputs": [],
   "source": [
    "exportPrice = exportPrice.rename(columns={'Año': 'Year', 'Precio externo': 'Price'})"
   ]
  },
  {
   "cell_type": "code",
   "execution_count": 55,
   "metadata": {},
   "outputs": [],
   "source": [
    "exportPrice['Year'] = pd.to_datetime(exportPrice['Year'], format='%Y')"
   ]
  },
  {
   "cell_type": "code",
   "execution_count": 58,
   "metadata": {},
   "outputs": [],
   "source": [
    "exportPrice.to_json('../data/cleaned/colombianYearlyExportPrice.json', orient='records', date_format='epoch')"
   ]
  },
  {
   "cell_type": "markdown",
   "metadata": {},
   "source": [
    "# Eighth: Colombian cultivated area by region, measured in million hectares "
   ]
  },
  {
   "cell_type": "code",
   "execution_count": 59,
   "metadata": {},
   "outputs": [],
   "source": [
    "cultivatedArea = pd.read_excel('../data/non-cleaned/Precios-área-y-producción-de-café.xlsx', sheet_name='Cultivated Area', skiprows=4, header=1, usecols='B:T')"
   ]
  },
  {
   "cell_type": "code",
   "execution_count": 61,
   "metadata": {},
   "outputs": [],
   "source": [
    "cultivatedArea = cultivatedArea.rename(columns={'Unnamed: 1': 'Region'}).drop(index=[23, 24])"
   ]
  },
  {
   "cell_type": "code",
   "execution_count": 63,
   "metadata": {},
   "outputs": [],
   "source": [
    "cultivatedArea = cultivatedArea.drop(index=22)"
   ]
  },
  {
   "cell_type": "code",
   "execution_count": 67,
   "metadata": {},
   "outputs": [],
   "source": [
    "cultivatedArea = cultivatedArea.T"
   ]
  },
  {
   "cell_type": "code",
   "execution_count": 69,
   "metadata": {},
   "outputs": [],
   "source": [
    "cultivatedArea = cultivatedArea.reset_index()"
   ]
  },
  {
   "cell_type": "code",
   "execution_count": 71,
   "metadata": {},
   "outputs": [],
   "source": [
    "cultivatedArea = cultivatedArea.rename(columns=cultivatedArea.iloc[0]).drop(index=0).rename(columns={'Region': 'Year'})"
   ]
  },
  {
   "cell_type": "code",
   "execution_count": 73,
   "metadata": {},
   "outputs": [],
   "source": [
    "cultivatedArea['Year'] = pd.to_datetime(cultivatedArea['Year'], format='%Y', exact=False)"
   ]
  },
  {
   "cell_type": "code",
   "execution_count": 77,
   "metadata": {},
   "outputs": [],
   "source": [
    "cultivatedArea = cultivatedArea.set_index('Year')"
   ]
  },
  {
   "cell_type": "code",
   "execution_count": 83,
   "metadata": {},
   "outputs": [],
   "source": [
    "cultivatedArea[cultivatedArea == 'n/d'] = np.nan"
   ]
  },
  {
   "cell_type": "code",
   "execution_count": 86,
   "metadata": {},
   "outputs": [],
   "source": [
    "cultivatedArea = cultivatedArea.astype('float64')"
   ]
  },
  {
   "cell_type": "code",
   "execution_count": 91,
   "metadata": {},
   "outputs": [],
   "source": [
    "cultivatedArea = cultivatedArea.rename(columns={'Caquetá': 'Caqueta', 'N. Santander': 'Norte De Santander', 'Chocó': 'Choco'})"
   ]
  },
  {
   "cell_type": "code",
   "execution_count": 93,
   "metadata": {},
   "outputs": [],
   "source": [
    "cultivatedArea.to_json('../data/cleaned/colombianCultivatedAreaByRegion.json', orient='index', date_format='epoch')"
   ]
  },
  {
   "cell_type": "markdown",
   "metadata": {},
   "source": [
    "# Nineth: Colombian monthly production, measured in thousand 60kg bags"
   ]
  },
  {
   "cell_type": "code",
   "execution_count": 95,
   "metadata": {},
   "outputs": [],
   "source": [
    "monthlyProduction = pd.read_excel('../data/non-cleaned/Precios-área-y-producción-de-café.xlsx', sheet_name='Monthly Production', skiprows=4, header=1, usecols='B:C')"
   ]
  },
  {
   "cell_type": "code",
   "execution_count": 97,
   "metadata": {},
   "outputs": [],
   "source": [
    "monthlyProduction = monthlyProduction.rename(columns={'Mes': 'Year', 'Producción': 'Production'})"
   ]
  },
  {
   "cell_type": "code",
   "execution_count": 101,
   "metadata": {},
   "outputs": [],
   "source": [
    "monthlyProduction.to_json('../data/cleaned/colombianMonthlyProduction.json', orient='records', date_format='epoch')"
   ]
  },
  {
   "cell_type": "markdown",
   "metadata": {},
   "source": [
    "# Tenth: Colombia GDP by sector"
   ]
  },
  {
   "cell_type": "code",
   "execution_count": 10,
   "metadata": {},
   "outputs": [],
   "source": [
    "colombiaGdp = pd.read_excel('../data/non-cleaned/colombiaGDPBySector.xlsx')"
   ]
  },
  {
   "cell_type": "code",
   "execution_count": 12,
   "metadata": {},
   "outputs": [
    {
     "data": {
      "text/html": [
       "<div>\n",
       "<style scoped>\n",
       "    .dataframe tbody tr th:only-of-type {\n",
       "        vertical-align: middle;\n",
       "    }\n",
       "\n",
       "    .dataframe tbody tr th {\n",
       "        vertical-align: top;\n",
       "    }\n",
       "\n",
       "    .dataframe thead th {\n",
       "        text-align: right;\n",
       "    }\n",
       "</style>\n",
       "<table border=\"1\" class=\"dataframe\">\n",
       "  <thead>\n",
       "    <tr style=\"text-align: right;\">\n",
       "      <th></th>\n",
       "      <th>Year</th>\n",
       "      <th>Agriculture</th>\n",
       "      <th>Industry</th>\n",
       "      <th>Services</th>\n",
       "    </tr>\n",
       "  </thead>\n",
       "  <tbody>\n",
       "    <tr>\n",
       "      <th>0</th>\n",
       "      <td>2009</td>\n",
       "      <td>0.0669</td>\n",
       "      <td>0.3125</td>\n",
       "      <td>0.5348</td>\n",
       "    </tr>\n",
       "    <tr>\n",
       "      <th>1</th>\n",
       "      <td>2010</td>\n",
       "      <td>0.0632</td>\n",
       "      <td>0.3137</td>\n",
       "      <td>0.5340</td>\n",
       "    </tr>\n",
       "    <tr>\n",
       "      <th>2</th>\n",
       "      <td>2011</td>\n",
       "      <td>0.0609</td>\n",
       "      <td>0.3330</td>\n",
       "      <td>0.5144</td>\n",
       "    </tr>\n",
       "    <tr>\n",
       "      <th>3</th>\n",
       "      <td>2012</td>\n",
       "      <td>0.0558</td>\n",
       "      <td>0.3341</td>\n",
       "      <td>0.5199</td>\n",
       "    </tr>\n",
       "    <tr>\n",
       "      <th>4</th>\n",
       "      <td>2013</td>\n",
       "      <td>0.0539</td>\n",
       "      <td>0.3275</td>\n",
       "      <td>0.5335</td>\n",
       "    </tr>\n",
       "    <tr>\n",
       "      <th>5</th>\n",
       "      <td>2014</td>\n",
       "      <td>0.0545</td>\n",
       "      <td>0.3099</td>\n",
       "      <td>0.5463</td>\n",
       "    </tr>\n",
       "    <tr>\n",
       "      <th>6</th>\n",
       "      <td>2015</td>\n",
       "      <td>0.0598</td>\n",
       "      <td>0.2859</td>\n",
       "      <td>0.5622</td>\n",
       "    </tr>\n",
       "    <tr>\n",
       "      <th>7</th>\n",
       "      <td>2016</td>\n",
       "      <td>0.0661</td>\n",
       "      <td>0.2769</td>\n",
       "      <td>0.5690</td>\n",
       "    </tr>\n",
       "    <tr>\n",
       "      <th>8</th>\n",
       "      <td>2017</td>\n",
       "      <td>0.0639</td>\n",
       "      <td>0.2681</td>\n",
       "      <td>0.5761</td>\n",
       "    </tr>\n",
       "    <tr>\n",
       "      <th>9</th>\n",
       "      <td>2018</td>\n",
       "      <td>0.0629</td>\n",
       "      <td>0.2693</td>\n",
       "      <td>0.5754</td>\n",
       "    </tr>\n",
       "    <tr>\n",
       "      <th>10</th>\n",
       "      <td>2019</td>\n",
       "      <td>0.0674</td>\n",
       "      <td>0.2627</td>\n",
       "      <td>0.5753</td>\n",
       "    </tr>\n",
       "  </tbody>\n",
       "</table>\n",
       "</div>"
      ],
      "text/plain": [
       "    Year  Agriculture  Industry  Services\n",
       "0   2009       0.0669    0.3125    0.5348\n",
       "1   2010       0.0632    0.3137    0.5340\n",
       "2   2011       0.0609    0.3330    0.5144\n",
       "3   2012       0.0558    0.3341    0.5199\n",
       "4   2013       0.0539    0.3275    0.5335\n",
       "5   2014       0.0545    0.3099    0.5463\n",
       "6   2015       0.0598    0.2859    0.5622\n",
       "7   2016       0.0661    0.2769    0.5690\n",
       "8   2017       0.0639    0.2681    0.5761\n",
       "9   2018       0.0629    0.2693    0.5754\n",
       "10  2019       0.0674    0.2627    0.5753"
      ]
     },
     "execution_count": 12,
     "metadata": {},
     "output_type": "execute_result"
    }
   ],
   "source": [
    "colombiaGdp"
   ]
  },
  {
   "cell_type": "code",
   "execution_count": 13,
   "metadata": {},
   "outputs": [],
   "source": [
    "#colombiaGdp = colombiaGdp.set_index('Year')"
   ]
  },
  {
   "cell_type": "code",
   "execution_count": 15,
   "metadata": {},
   "outputs": [],
   "source": [
    "colombiaGdp.to_json('../data/cleaned/colombiaGdp.json', orient='records', date_format='epoch')"
   ]
  },
  {
   "cell_type": "markdown",
   "metadata": {},
   "source": [
    "# Eleventh: Coffee exporter's hemisphere temperature change, measured in celsius"
   ]
  },
  {
   "cell_type": "code",
   "execution_count": 109,
   "metadata": {},
   "outputs": [],
   "source": [
    "temperatureChange = pd.read_csv('../data/non-cleaned/Zonal annual means in C.csv')"
   ]
  },
  {
   "cell_type": "code",
   "execution_count": 111,
   "metadata": {},
   "outputs": [],
   "source": [
    "temperatureChange = temperatureChange.drop(columns=['Glob', 'NHem', 'SHem', '24N-90N', '90S-24S', '64N-90N', '44N-64N', '24N-44N', 'EQU-24N', '24S-EQU', '44S-24S', '64S-44S', '90S-64S'])"
   ]
  },
  {
   "cell_type": "code",
   "execution_count": 113,
   "metadata": {},
   "outputs": [],
   "source": [
    "temperatureChange = temperatureChange.rename(columns={'24S-24N': 'Difference'})"
   ]
  },
  {
   "cell_type": "code",
   "execution_count": 116,
   "metadata": {},
   "outputs": [],
   "source": [
    "temperatureChange['Year'] = pd.to_datetime(temperatureChange['Year'], format='%Y')"
   ]
  },
  {
   "cell_type": "code",
   "execution_count": 118,
   "metadata": {},
   "outputs": [],
   "source": [
    "temperatureChange.to_json('../data/cleaned/temperatureChange.json', orient='records', date_format='epoch')"
   ]
  },
  {
   "cell_type": "markdown",
   "metadata": {},
   "source": [
    "# Twelveth: Exporters Climate Data, measured in celsius"
   ]
  },
  {
   "cell_type": "code",
   "execution_count": 175,
   "metadata": {},
   "outputs": [],
   "source": [
    "exporterCountriesCodes = ['AGO', 'BEN', 'BOL', 'BRA', 'BDI', 'CMR', 'CAF', 'COL', 'COG', 'CRI', 'CIV', 'CUB', 'COD', 'DOM', 'ECU', 'SLV', 'GNQ', 'ETH', 'GAB', 'GHA', 'GTM', 'GIN', 'GUY', 'HTI', 'HND', 'IND', 'IDN', 'JAM', 'KEN', 'LAO', 'LBR', 'MDG', 'MWI', 'MEX', 'NPL', 'NIC', 'NGA', 'PAN', 'PNG', 'PRY', 'PER', 'PHL', 'RWA', 'SLE', 'LKA', 'TZA', 'THA', 'TLS', 'TGO', 'TTO', 'UGA', 'VEN', 'VNM', 'YEM', 'ZMB', 'ZWE']\n",
    "resultTemperatures = []\n",
    "resultPerc = []\n",
    "years = ['1920/1939', '1940/1959', '1960/1979', '1980/1999', '2020/2039', '2040/2059', '2060/2079', '2080/2099']"
   ]
  },
  {
   "cell_type": "code",
   "execution_count": 176,
   "metadata": {},
   "outputs": [],
   "source": [
    "for y in years:\n",
    "    for c in exporterCountriesCodes:\n",
    "        url = 'http://climatedataapi.worldbank.org/climateweb/rest/v1/country/annualavg/bccr_bcm2_0/tas/{}/{}.json'.format(y, c)\n",
    "        resp = requests.get(url)\n",
    "        \n",
    "        annualData = resp.json()[0]['annualData'][0]\n",
    "        \n",
    "        resultTemperatures.append({'Code': c, 'Year': y, 'Value': annualData})"
   ]
  },
  {
   "cell_type": "code",
   "execution_count": 177,
   "metadata": {},
   "outputs": [],
   "source": [
    "for y in years:\n",
    "    for c in exporterCountriesCodes:\n",
    "        url = 'http://climatedataapi.worldbank.org/climateweb/rest/v1/country/annualavg/bccr_bcm2_0/pr/{}/{}.json'.format(y, c)\n",
    "        resp = requests.get(url)\n",
    "        \n",
    "        annualData = resp.json()[0]['annualData'][0]\n",
    "        \n",
    "        resultPerc.append({'Code': c, 'Year': y, 'Value': annualData})"
   ]
  },
  {
   "cell_type": "code",
   "execution_count": 179,
   "metadata": {},
   "outputs": [],
   "source": [
    "exporterTemperatures = pd.DataFrame(resultTemperatures)"
   ]
  },
  {
   "cell_type": "code",
   "execution_count": 181,
   "metadata": {},
   "outputs": [],
   "source": [
    "exporterPerc = pd.DataFrame(resultPerc)"
   ]
  },
  {
   "cell_type": "code",
   "execution_count": 183,
   "metadata": {},
   "outputs": [],
   "source": [
    "exporterPerc.to_json('../data/cleaned/exporterPerc.json', orient='records')\n",
    "exporterTemperatures.to_json('../data/cleaned/exporterTemperatures.json', orient='records')"
   ]
  },
  {
   "cell_type": "markdown",
   "metadata": {},
   "source": [
    "---"
   ]
  },
  {
   "cell_type": "code",
   "execution_count": 186,
   "metadata": {},
   "outputs": [],
   "source": [
    "codes = codes.set_index('Country')"
   ]
  },
  {
   "cell_type": "code",
   "execution_count": 188,
   "metadata": {},
   "outputs": [],
   "source": [
    "codes.to_json('countryCodes.json', orient='index')"
   ]
  },
  {
   "cell_type": "code",
   "execution_count": 189,
   "metadata": {},
   "outputs": [
    {
     "data": {
      "text/html": [
       "<div>\n",
       "<style scoped>\n",
       "    .dataframe tbody tr th:only-of-type {\n",
       "        vertical-align: middle;\n",
       "    }\n",
       "\n",
       "    .dataframe tbody tr th {\n",
       "        vertical-align: top;\n",
       "    }\n",
       "\n",
       "    .dataframe thead th {\n",
       "        text-align: right;\n",
       "    }\n",
       "</style>\n",
       "<table border=\"1\" class=\"dataframe\">\n",
       "  <thead>\n",
       "    <tr style=\"text-align: right;\">\n",
       "      <th></th>\n",
       "      <th>Code</th>\n",
       "    </tr>\n",
       "    <tr>\n",
       "      <th>Country</th>\n",
       "      <th></th>\n",
       "    </tr>\n",
       "  </thead>\n",
       "  <tbody>\n",
       "    <tr>\n",
       "      <th>Aruba</th>\n",
       "      <td>ABW</td>\n",
       "    </tr>\n",
       "    <tr>\n",
       "      <th>Afghanistan</th>\n",
       "      <td>AFG</td>\n",
       "    </tr>\n",
       "    <tr>\n",
       "      <th>Angola</th>\n",
       "      <td>AGO</td>\n",
       "    </tr>\n",
       "    <tr>\n",
       "      <th>Anguilla</th>\n",
       "      <td>AIA</td>\n",
       "    </tr>\n",
       "    <tr>\n",
       "      <th>Åland Islands</th>\n",
       "      <td>ALA</td>\n",
       "    </tr>\n",
       "    <tr>\n",
       "      <th>...</th>\n",
       "      <td>...</td>\n",
       "    </tr>\n",
       "    <tr>\n",
       "      <th>South Africa</th>\n",
       "      <td>ZAF</td>\n",
       "    </tr>\n",
       "    <tr>\n",
       "      <th>Zambia</th>\n",
       "      <td>ZMB</td>\n",
       "    </tr>\n",
       "    <tr>\n",
       "      <th>Zimbabwe</th>\n",
       "      <td>ZWE</td>\n",
       "    </tr>\n",
       "    <tr>\n",
       "      <th>Kosovo</th>\n",
       "      <td>KSV</td>\n",
       "    </tr>\n",
       "    <tr>\n",
       "      <th>European Union</th>\n",
       "      <td>EAU</td>\n",
       "    </tr>\n",
       "  </tbody>\n",
       "</table>\n",
       "<p>251 rows × 1 columns</p>\n",
       "</div>"
      ],
      "text/plain": [
       "               Code\n",
       "Country            \n",
       "Aruba           ABW\n",
       "Afghanistan     AFG\n",
       "Angola          AGO\n",
       "Anguilla        AIA\n",
       "Åland Islands   ALA\n",
       "...             ...\n",
       "South Africa    ZAF\n",
       "Zambia          ZMB\n",
       "Zimbabwe        ZWE\n",
       "Kosovo          KSV\n",
       "European Union  EAU\n",
       "\n",
       "[251 rows x 1 columns]"
      ]
     },
     "execution_count": 189,
     "metadata": {},
     "output_type": "execute_result"
    }
   ],
   "source": [
    "codes"
   ]
  },
  {
   "cell_type": "markdown",
   "metadata": {},
   "source": [
    "# Thirteenth: Historical retail prices in U.S. cities, measured in US cents/lb"
   ]
  },
  {
   "cell_type": "code",
   "execution_count": 19,
   "metadata": {},
   "outputs": [],
   "source": [
    "historicalPrices = pd.read_excel('../data/non-cleaned/historicalPrices.xlsx')"
   ]
  },
  {
   "cell_type": "code",
   "execution_count": 20,
   "metadata": {},
   "outputs": [],
   "source": [
    "historicalPrices['Year'] = pd.to_datetime(historicalPrices['Year'], format='%Y')"
   ]
  },
  {
   "cell_type": "code",
   "execution_count": 21,
   "metadata": {},
   "outputs": [],
   "source": [
    "historicalPrices.to_json('../data/cleaned/historicalPrices.json', orient='records')"
   ]
  },
  {
   "cell_type": "code",
   "execution_count": 22,
   "metadata": {},
   "outputs": [
    {
     "data": {
      "text/html": [
       "<div>\n",
       "<style scoped>\n",
       "    .dataframe tbody tr th:only-of-type {\n",
       "        vertical-align: middle;\n",
       "    }\n",
       "\n",
       "    .dataframe tbody tr th {\n",
       "        vertical-align: top;\n",
       "    }\n",
       "\n",
       "    .dataframe thead th {\n",
       "        text-align: right;\n",
       "    }\n",
       "</style>\n",
       "<table border=\"1\" class=\"dataframe\">\n",
       "  <thead>\n",
       "    <tr style=\"text-align: right;\">\n",
       "      <th></th>\n",
       "      <th>Year</th>\n",
       "      <th>Price</th>\n",
       "    </tr>\n",
       "  </thead>\n",
       "  <tbody>\n",
       "    <tr>\n",
       "      <th>0</th>\n",
       "      <td>1913-01-01</td>\n",
       "      <td>29.8</td>\n",
       "    </tr>\n",
       "    <tr>\n",
       "      <th>1</th>\n",
       "      <td>1914-01-01</td>\n",
       "      <td>29.7</td>\n",
       "    </tr>\n",
       "    <tr>\n",
       "      <th>2</th>\n",
       "      <td>1915-01-01</td>\n",
       "      <td>30.0</td>\n",
       "    </tr>\n",
       "    <tr>\n",
       "      <th>3</th>\n",
       "      <td>1916-01-01</td>\n",
       "      <td>29.9</td>\n",
       "    </tr>\n",
       "    <tr>\n",
       "      <th>4</th>\n",
       "      <td>1917-01-01</td>\n",
       "      <td>30.2</td>\n",
       "    </tr>\n",
       "    <tr>\n",
       "      <th>...</th>\n",
       "      <td>...</td>\n",
       "      <td>...</td>\n",
       "    </tr>\n",
       "    <tr>\n",
       "      <th>61</th>\n",
       "      <td>1974-01-01</td>\n",
       "      <td>122.9</td>\n",
       "    </tr>\n",
       "    <tr>\n",
       "      <th>62</th>\n",
       "      <td>1975-01-01</td>\n",
       "      <td>133.4</td>\n",
       "    </tr>\n",
       "    <tr>\n",
       "      <th>63</th>\n",
       "      <td>1976-01-01</td>\n",
       "      <td>187.3</td>\n",
       "    </tr>\n",
       "    <tr>\n",
       "      <th>64</th>\n",
       "      <td>1977-01-01</td>\n",
       "      <td>347.2</td>\n",
       "    </tr>\n",
       "    <tr>\n",
       "      <th>65</th>\n",
       "      <td>1978-01-01</td>\n",
       "      <td>339.5</td>\n",
       "    </tr>\n",
       "  </tbody>\n",
       "</table>\n",
       "<p>66 rows × 2 columns</p>\n",
       "</div>"
      ],
      "text/plain": [
       "         Year  Price\n",
       "0  1913-01-01   29.8\n",
       "1  1914-01-01   29.7\n",
       "2  1915-01-01   30.0\n",
       "3  1916-01-01   29.9\n",
       "4  1917-01-01   30.2\n",
       "..        ...    ...\n",
       "61 1974-01-01  122.9\n",
       "62 1975-01-01  133.4\n",
       "63 1976-01-01  187.3\n",
       "64 1977-01-01  347.2\n",
       "65 1978-01-01  339.5\n",
       "\n",
       "[66 rows x 2 columns]"
      ]
     },
     "execution_count": 22,
     "metadata": {},
     "output_type": "execute_result"
    }
   ],
   "source": [
    "historicalPrices"
   ]
  },
  {
   "cell_type": "markdown",
   "metadata": {},
   "source": [
    "---\n",
    "# Changing some columns Dtypes"
   ]
  },
  {
   "cell_type": "code",
   "execution_count": 39,
   "metadata": {},
   "outputs": [],
   "source": [
    "totalProduction = pd.read_json('../data/cleaned/totalProduction.json', orient='records')"
   ]
  },
  {
   "cell_type": "code",
   "execution_count": 40,
   "metadata": {},
   "outputs": [],
   "source": [
    "totalProduction['Year'] = pd.to_datetime(totalProduction['Year'], unit='ms', origin='unix')"
   ]
  },
  {
   "cell_type": "code",
   "execution_count": 41,
   "metadata": {},
   "outputs": [
    {
     "data": {
      "text/html": [
       "<div>\n",
       "<style scoped>\n",
       "    .dataframe tbody tr th:only-of-type {\n",
       "        vertical-align: middle;\n",
       "    }\n",
       "\n",
       "    .dataframe tbody tr th {\n",
       "        vertical-align: top;\n",
       "    }\n",
       "\n",
       "    .dataframe thead th {\n",
       "        text-align: right;\n",
       "    }\n",
       "</style>\n",
       "<table border=\"1\" class=\"dataframe\">\n",
       "  <thead>\n",
       "    <tr style=\"text-align: right;\">\n",
       "      <th></th>\n",
       "      <th>Code</th>\n",
       "      <th>Value</th>\n",
       "      <th>Year</th>\n",
       "    </tr>\n",
       "  </thead>\n",
       "  <tbody>\n",
       "    <tr>\n",
       "      <th>0</th>\n",
       "      <td>AGO</td>\n",
       "      <td>50.3450</td>\n",
       "      <td>1990-01-01</td>\n",
       "    </tr>\n",
       "    <tr>\n",
       "      <th>1</th>\n",
       "      <td>BOL</td>\n",
       "      <td>122.7770</td>\n",
       "      <td>1990-01-01</td>\n",
       "    </tr>\n",
       "    <tr>\n",
       "      <th>2</th>\n",
       "      <td>BRA</td>\n",
       "      <td>27285.6286</td>\n",
       "      <td>1990-01-01</td>\n",
       "    </tr>\n",
       "    <tr>\n",
       "      <th>3</th>\n",
       "      <td>BDI</td>\n",
       "      <td>487.3930</td>\n",
       "      <td>1990-01-01</td>\n",
       "    </tr>\n",
       "    <tr>\n",
       "      <th>4</th>\n",
       "      <td>ECU</td>\n",
       "      <td>1503.8150</td>\n",
       "      <td>1990-01-01</td>\n",
       "    </tr>\n",
       "    <tr>\n",
       "      <th>...</th>\n",
       "      <td>...</td>\n",
       "      <td>...</td>\n",
       "      <td>...</td>\n",
       "    </tr>\n",
       "    <tr>\n",
       "      <th>1648</th>\n",
       "      <td>UGA</td>\n",
       "      <td>4703.9640</td>\n",
       "      <td>2018-01-01</td>\n",
       "    </tr>\n",
       "    <tr>\n",
       "      <th>1649</th>\n",
       "      <td>VEN</td>\n",
       "      <td>525.2602</td>\n",
       "      <td>2018-01-01</td>\n",
       "    </tr>\n",
       "    <tr>\n",
       "      <th>1650</th>\n",
       "      <td>VNM</td>\n",
       "      <td>31174.0742</td>\n",
       "      <td>2018-01-01</td>\n",
       "    </tr>\n",
       "    <tr>\n",
       "      <th>1651</th>\n",
       "      <td>YEM</td>\n",
       "      <td>106.0735</td>\n",
       "      <td>2018-01-01</td>\n",
       "    </tr>\n",
       "    <tr>\n",
       "      <th>1652</th>\n",
       "      <td>Total</td>\n",
       "      <td>170936.7377</td>\n",
       "      <td>2018-01-01</td>\n",
       "    </tr>\n",
       "  </tbody>\n",
       "</table>\n",
       "<p>1653 rows × 3 columns</p>\n",
       "</div>"
      ],
      "text/plain": [
       "       Code        Value       Year\n",
       "0       AGO      50.3450 1990-01-01\n",
       "1       BOL     122.7770 1990-01-01\n",
       "2       BRA   27285.6286 1990-01-01\n",
       "3       BDI     487.3930 1990-01-01\n",
       "4       ECU    1503.8150 1990-01-01\n",
       "...     ...          ...        ...\n",
       "1648    UGA    4703.9640 2018-01-01\n",
       "1649    VEN     525.2602 2018-01-01\n",
       "1650    VNM   31174.0742 2018-01-01\n",
       "1651    YEM     106.0735 2018-01-01\n",
       "1652  Total  170936.7377 2018-01-01\n",
       "\n",
       "[1653 rows x 3 columns]"
      ]
     },
     "execution_count": 41,
     "metadata": {},
     "output_type": "execute_result"
    }
   ],
   "source": [
    "totalProduction"
   ]
  },
  {
   "cell_type": "code",
   "execution_count": 44,
   "metadata": {},
   "outputs": [],
   "source": [
    "totalProduction.to_json('../data/cleaned/totalProduction.json', date_format='iso', orient='records')"
   ]
  },
  {
   "cell_type": "markdown",
   "metadata": {},
   "source": [
    "---"
   ]
  },
  {
   "cell_type": "code",
   "execution_count": 45,
   "metadata": {},
   "outputs": [],
   "source": [
    "totalExport = pd.read_json('../data/cleaned/totalExport.json', orient='records')"
   ]
  },
  {
   "cell_type": "code",
   "execution_count": 47,
   "metadata": {},
   "outputs": [],
   "source": [
    "totalExport['Year'] = pd.to_datetime(totalExport['Year'], unit='ms', origin='unix')"
   ]
  },
  {
   "cell_type": "code",
   "execution_count": 49,
   "metadata": {},
   "outputs": [],
   "source": [
    "totalImport = pd.read_json('../data/cleaned/totalImport.json', orient='records')"
   ]
  },
  {
   "cell_type": "code",
   "execution_count": 50,
   "metadata": {},
   "outputs": [],
   "source": [
    "totalImport['Year'] = pd.to_datetime(totalImport['Year'], unit='ms', origin='unix')"
   ]
  },
  {
   "cell_type": "code",
   "execution_count": 52,
   "metadata": {},
   "outputs": [],
   "source": [
    "totalExport.to_json('../data/cleaned/totalExport.json', orient='records', date_format='iso')\n",
    "totalImport.to_json('../data/cleaned/totalImport.json', orient='records', date_format='iso')"
   ]
  },
  {
   "cell_type": "markdown",
   "metadata": {},
   "source": [
    "---"
   ]
  },
  {
   "cell_type": "code",
   "execution_count": 16,
   "metadata": {},
   "outputs": [],
   "source": [
    "cultivatedArea = pd.read_json('../data/cleaned/colombianCultivatedAreaByRegion.json', orient='index')"
   ]
  },
  {
   "cell_type": "code",
   "execution_count": 22,
   "metadata": {},
   "outputs": [],
   "source": [
    "cultivatedArea = cultivatedArea.T"
   ]
  },
  {
   "cell_type": "code",
   "execution_count": 23,
   "metadata": {},
   "outputs": [],
   "source": [
    "cultivatedArea = cultivatedArea.reset_index().rename(columns={'index': 'Region'})"
   ]
  },
  {
   "cell_type": "code",
   "execution_count": 25,
   "metadata": {},
   "outputs": [],
   "source": [
    "cultivatedArea.to_json('test.json', orient='records', date_format='iso')"
   ]
  },
  {
   "cell_type": "code",
   "execution_count": 76,
   "metadata": {},
   "outputs": [],
   "source": [
    "def makeSeperateJsonFilesForRegions():\n",
    "    regions = cultivatedArea['Region'].tolist()\n",
    "    groups = cultivatedArea.groupby('Region')\n",
    "    cols = cultivatedArea.columns.tolist()\n",
    "    cols.pop(0) # remove Region from cols\n",
    "    \n",
    "    for r in regions:\n",
    "        result = []\n",
    "        for c in cols:\n",
    "            current = {}\n",
    "            \n",
    "            current['Region'] = r\n",
    "            current['Year'] = c\n",
    "            try:\n",
    "                current['Value'] = groups.get_group(r)[c].tolist()[0]\n",
    "            except KeyError:\n",
    "                current['Value'] = np.nan\n",
    "            \n",
    "            result.append(current)\n",
    "            \n",
    "        pd.DataFrame(result).to_json('../data/cleaned/cultivatedArea/{}.json'.format(r), orient='records', date_format='iso')\n",
    "            "
   ]
  },
  {
   "cell_type": "code",
   "execution_count": 77,
   "metadata": {},
   "outputs": [],
   "source": [
    "makeSeperateJsonFilesForRegions()"
   ]
  },
  {
   "cell_type": "code",
   "execution_count": 79,
   "metadata": {},
   "outputs": [],
   "source": [
    "mergeFiles('../data/cleaned/cultivatedArea/', '../data/cleaned/cultivatedArea.json')"
   ]
  },
  {
   "cell_type": "code",
   "execution_count": null,
   "metadata": {},
   "outputs": [],
   "source": []
  }
 ],
 "metadata": {
  "kernelspec": {
   "display_name": "Python 3.8.3 64-bit ('pyjsviz': conda)",
   "language": "python",
   "name": "python38364bitpyjsvizconda745acef9f02b447482f77d90c121d992"
  },
  "language_info": {
   "codemirror_mode": {
    "name": "ipython",
    "version": 3
   },
   "file_extension": ".py",
   "mimetype": "text/x-python",
   "name": "python",
   "nbconvert_exporter": "python",
   "pygments_lexer": "ipython3",
   "version": "3.8.3"
  }
 },
 "nbformat": 4,
 "nbformat_minor": 4
}
